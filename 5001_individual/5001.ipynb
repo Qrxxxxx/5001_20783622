{
 "cells": [
  {
   "cell_type": "code",
   "execution_count": 4,
   "metadata": {},
   "outputs": [],
   "source": [
    "import numpy as np\n",
    "import pandas as pd"
   ]
  },
  {
   "cell_type": "code",
   "execution_count": 5,
   "metadata": {},
   "outputs": [],
   "source": [
    "from sklearn.model_selection import GridSearchCV\n",
    "from sklearn.ensemble import RandomForestClassifier\n",
    "import warnings\n",
    "warnings.filterwarnings(\"ignore\")"
   ]
  },
  {
   "cell_type": "code",
   "execution_count": 6,
   "metadata": {},
   "outputs": [],
   "source": [
    "test=pd.read_csv('test.csv')\n",
    "train=pd.read_csv('train.csv')"
   ]
  },
  {
   "cell_type": "code",
   "execution_count": 7,
   "metadata": {},
   "outputs": [
    {
     "data": {
      "text/html": [
       "<div>\n",
       "<style scoped>\n",
       "    .dataframe tbody tr th:only-of-type {\n",
       "        vertical-align: middle;\n",
       "    }\n",
       "\n",
       "    .dataframe tbody tr th {\n",
       "        vertical-align: top;\n",
       "    }\n",
       "\n",
       "    .dataframe thead th {\n",
       "        text-align: right;\n",
       "    }\n",
       "</style>\n",
       "<table border=\"1\" class=\"dataframe\">\n",
       "  <thead>\n",
       "    <tr style=\"text-align: right;\">\n",
       "      <th></th>\n",
       "      <th>id</th>\n",
       "      <th>MO HLADR+ MFI (cells/ul)</th>\n",
       "      <th>Neu CD64+MFI (cells/ul)</th>\n",
       "      <th>CD3+T (cells/ul)</th>\n",
       "      <th>CD8+T (cells/ul)</th>\n",
       "      <th>CD4+T (cells/ul)</th>\n",
       "      <th>NK (cells/ul)</th>\n",
       "      <th>CD19+ (cells/ul)</th>\n",
       "      <th>CD45+ (cells/ul)</th>\n",
       "      <th>Age</th>\n",
       "      <th>Sex 0M1F</th>\n",
       "      <th>Mono CD64+MFI (cells/ul)</th>\n",
       "      <th>label</th>\n",
       "    </tr>\n",
       "  </thead>\n",
       "  <tbody>\n",
       "    <tr>\n",
       "      <th>0</th>\n",
       "      <td>0</td>\n",
       "      <td>3556.0</td>\n",
       "      <td>2489.0</td>\n",
       "      <td>265.19</td>\n",
       "      <td>77.53</td>\n",
       "      <td>176.55</td>\n",
       "      <td>0.00</td>\n",
       "      <td>4.20</td>\n",
       "      <td>307.91</td>\n",
       "      <td>52</td>\n",
       "      <td>0</td>\n",
       "      <td>7515.0</td>\n",
       "      <td>1</td>\n",
       "    </tr>\n",
       "    <tr>\n",
       "      <th>1</th>\n",
       "      <td>1</td>\n",
       "      <td>1906.0</td>\n",
       "      <td>134.0</td>\n",
       "      <td>1442.61</td>\n",
       "      <td>551.90</td>\n",
       "      <td>876.07</td>\n",
       "      <td>112.10</td>\n",
       "      <td>168.15</td>\n",
       "      <td>1735.48</td>\n",
       "      <td>20</td>\n",
       "      <td>1</td>\n",
       "      <td>1756.0</td>\n",
       "      <td>0</td>\n",
       "    </tr>\n",
       "    <tr>\n",
       "      <th>2</th>\n",
       "      <td>2</td>\n",
       "      <td>1586.0</td>\n",
       "      <td>71.0</td>\n",
       "      <td>1332.74</td>\n",
       "      <td>684.20</td>\n",
       "      <td>655.26</td>\n",
       "      <td>244.95</td>\n",
       "      <td>216.52</td>\n",
       "      <td>1820.04</td>\n",
       "      <td>28</td>\n",
       "      <td>1</td>\n",
       "      <td>1311.0</td>\n",
       "      <td>0</td>\n",
       "    </tr>\n",
       "    <tr>\n",
       "      <th>3</th>\n",
       "      <td>3</td>\n",
       "      <td>683.0</td>\n",
       "      <td>94.0</td>\n",
       "      <td>419.23</td>\n",
       "      <td>255.80</td>\n",
       "      <td>162.17</td>\n",
       "      <td>72.05</td>\n",
       "      <td>44.68</td>\n",
       "      <td>538.22</td>\n",
       "      <td>55</td>\n",
       "      <td>1</td>\n",
       "      <td>1443.0</td>\n",
       "      <td>0</td>\n",
       "    </tr>\n",
       "    <tr>\n",
       "      <th>4</th>\n",
       "      <td>4</td>\n",
       "      <td>1032.0</td>\n",
       "      <td>71.0</td>\n",
       "      <td>1102.72</td>\n",
       "      <td>480.27</td>\n",
       "      <td>625.30</td>\n",
       "      <td>188.78</td>\n",
       "      <td>130.77</td>\n",
       "      <td>1427.97</td>\n",
       "      <td>28</td>\n",
       "      <td>1</td>\n",
       "      <td>1542.0</td>\n",
       "      <td>0</td>\n",
       "    </tr>\n",
       "  </tbody>\n",
       "</table>\n",
       "</div>"
      ],
      "text/plain": [
       "   id  MO HLADR+ MFI (cells/ul)  Neu CD64+MFI (cells/ul)  CD3+T (cells/ul)  \\\n",
       "0   0                    3556.0                   2489.0            265.19   \n",
       "1   1                    1906.0                    134.0           1442.61   \n",
       "2   2                    1586.0                     71.0           1332.74   \n",
       "3   3                     683.0                     94.0            419.23   \n",
       "4   4                    1032.0                     71.0           1102.72   \n",
       "\n",
       "   CD8+T (cells/ul)  CD4+T (cells/ul)  NK (cells/ul)  CD19+ (cells/ul)  \\\n",
       "0             77.53            176.55           0.00              4.20   \n",
       "1            551.90            876.07         112.10            168.15   \n",
       "2            684.20            655.26         244.95            216.52   \n",
       "3            255.80            162.17          72.05             44.68   \n",
       "4            480.27            625.30         188.78            130.77   \n",
       "\n",
       "   CD45+ (cells/ul)  Age  Sex 0M1F  Mono CD64+MFI (cells/ul)  label  \n",
       "0            307.91   52         0                    7515.0      1  \n",
       "1           1735.48   20         1                    1756.0      0  \n",
       "2           1820.04   28         1                    1311.0      0  \n",
       "3            538.22   55         1                    1443.0      0  \n",
       "4           1427.97   28         1                    1542.0      0  "
      ]
     },
     "execution_count": 7,
     "metadata": {},
     "output_type": "execute_result"
    }
   ],
   "source": [
    "train.head()"
   ]
  },
  {
   "cell_type": "code",
   "execution_count": 8,
   "metadata": {},
   "outputs": [],
   "source": [
    "total=pd.concat([train,test],axis=0)\n",
    "total.reset_index(drop=True, inplace=True)\n",
    "total.columns=['id','HLADR','neuCD64','CD3','CD8','CD4','NK','CD19','CD45','Age','Sex','monoCD64','label']"
   ]
  },
  {
   "cell_type": "code",
   "execution_count": null,
   "metadata": {},
   "outputs": [],
   "source": [
    "# cd45白细胞共同抗原\n",
    "# CD3 T淋巴细胞\n",
    "# CD4T 细胞是辅助性T淋巴细胞，其主要功能是增强吞噬细胞介导的抗感染作用和增强B细胞介导的体液免疫应答\n",
    "# CD8 T细胞是抑制/杀伤性T淋巴细胞，主要功能是特异性直接杀伤靶细胞\n",
    "# 机体维持正常的免疫功能状态有赖于T淋巴细胞亚群维持一定的比例，尤其是CD4/CD8比值相对稳定\n",
    "# CD64的表达增高,能够作为判断在肾移植术后患者是否感染的指标\n",
    "# AGE 分组\n",
    "# NK natural killer cell 自然杀伤细胞\n",
    "# cd3 955～2860 # 低于955降低的话细胞免疫功能减弱，机体易感染\n",
    "# CD19  正常 90-560个\n",
    "# CD45 1530-3700\n",
    "# 1.4<CD4/CD8<2.0  # 比值高于2.0有自身免疫疾病/器官移植排斥反应\n",
    "# 1.0<CD4/CD8<2.87\n",
    "# 450<CD4<1440 # 增高发生自身免疫疾病\n",
    "# 320<CD8<1250 # 降低发生自身免疫疾病\n",
    "# 年龄分等级 10-20岁 20-30岁 30-40岁 40-50岁 50岁以上 60岁"
   ]
  },
  {
   "cell_type": "code",
   "execution_count": 9,
   "metadata": {},
   "outputs": [],
   "source": [
    "total['CD4/CD8']=total['CD4']/total['CD8']\n",
    "total['CD4/CD8']=total['CD4/CD8'].apply(lambda x: 0 if (x<=2) & (x>=1) else 1)\n",
    "total['CD4']=total['CD4'].apply(lambda x: 0 if (x<=1440) & (x>=450) else 1)\n",
    "total['CD8']=total['CD8'].apply(lambda x: 0 if (x<=1250) & (x>=320) else 1)\n",
    "total['CD3']=total['CD3'].apply(lambda x: 0 if (x<=2860) & (x>=955) else 1)\n",
    "total['CD19']=total['CD19'].apply(lambda x: 0 if (x<=560) & (x>=90) else 1)\n",
    "total['CD45']=total['CD45'].apply(lambda x: 0 if (x<=3700) & (x>=1530) else 1)\n",
    "total['Age']=total['Age'].apply(lambda x: int(x/10))"
   ]
  },
  {
   "cell_type": "code",
   "execution_count": 10,
   "metadata": {},
   "outputs": [],
   "source": [
    "total=total.loc[:,['id','HLADR','neuCD64','CD3','CD8','CD4','NK','CD19','CD45','Age','Sex','monoCD64','CD4/CD8', 'label']]"
   ]
  },
  {
   "cell_type": "code",
   "execution_count": 11,
   "metadata": {},
   "outputs": [],
   "source": [
    "X_train=total.iloc[:87,1:-1]\n",
    "y_train=total.iloc[:87,-1]"
   ]
  },
  {
   "cell_type": "code",
   "execution_count": 12,
   "metadata": {},
   "outputs": [],
   "source": [
    "X_test=total.iloc[87:,1:]"
   ]
  },
  {
   "cell_type": "code",
   "execution_count": 13,
   "metadata": {},
   "outputs": [
    {
     "data": {
      "text/html": [
       "<div>\n",
       "<style scoped>\n",
       "    .dataframe tbody tr th:only-of-type {\n",
       "        vertical-align: middle;\n",
       "    }\n",
       "\n",
       "    .dataframe tbody tr th {\n",
       "        vertical-align: top;\n",
       "    }\n",
       "\n",
       "    .dataframe thead th {\n",
       "        text-align: right;\n",
       "    }\n",
       "</style>\n",
       "<table border=\"1\" class=\"dataframe\">\n",
       "  <thead>\n",
       "    <tr style=\"text-align: right;\">\n",
       "      <th></th>\n",
       "      <th>HLADR</th>\n",
       "      <th>neuCD64</th>\n",
       "      <th>CD3</th>\n",
       "      <th>CD8</th>\n",
       "      <th>CD4</th>\n",
       "      <th>NK</th>\n",
       "      <th>CD19</th>\n",
       "      <th>CD45</th>\n",
       "      <th>Age</th>\n",
       "      <th>Sex</th>\n",
       "      <th>monoCD64</th>\n",
       "      <th>CD4/CD8</th>\n",
       "    </tr>\n",
       "  </thead>\n",
       "  <tbody>\n",
       "    <tr>\n",
       "      <th>39</th>\n",
       "      <td>NaN</td>\n",
       "      <td>NaN</td>\n",
       "      <td>0</td>\n",
       "      <td>0</td>\n",
       "      <td>0</td>\n",
       "      <td>68.46</td>\n",
       "      <td>0</td>\n",
       "      <td>0</td>\n",
       "      <td>2</td>\n",
       "      <td>0</td>\n",
       "      <td>NaN</td>\n",
       "      <td>1</td>\n",
       "    </tr>\n",
       "  </tbody>\n",
       "</table>\n",
       "</div>"
      ],
      "text/plain": [
       "    HLADR  neuCD64  CD3  CD8  CD4     NK  CD19  CD45  Age  Sex  monoCD64  \\\n",
       "39    NaN      NaN    0    0    0  68.46     0     0    2    0       NaN   \n",
       "\n",
       "    CD4/CD8  \n",
       "39        1  "
      ]
     },
     "execution_count": 13,
     "metadata": {},
     "output_type": "execute_result"
    }
   ],
   "source": [
    "# Input contains NaN, infinity or a value too large for dtype('float64')\n",
    "X_train[X_train.isnull().T.any()]"
   ]
  },
  {
   "cell_type": "code",
   "execution_count": 14,
   "metadata": {},
   "outputs": [],
   "source": [
    "X_train=X_train.drop(39)\n",
    "y_train=y_train.drop(39)"
   ]
  },
  {
   "cell_type": "code",
   "execution_count": 15,
   "metadata": {},
   "outputs": [],
   "source": [
    "y_train.columns=['label']\n",
    "y_train=pd.DataFrame(y_train)"
   ]
  },
  {
   "cell_type": "code",
   "execution_count": 16,
   "metadata": {},
   "outputs": [
    {
     "data": {
      "text/plain": [
       "label\n",
       "0.0    57\n",
       "1.0    57\n",
       "dtype: int64"
      ]
     },
     "execution_count": 16,
     "metadata": {},
     "output_type": "execute_result"
    }
   ],
   "source": [
    "from imblearn.over_sampling import SMOTE\n",
    "smote = SMOTE(random_state=42)\n",
    "X_res, y_res = smote.fit_resample(X_train, y_train)\n",
    "y_res.groupby([\"label\"]).size()"
   ]
  },
  {
   "cell_type": "code",
   "execution_count": 17,
   "metadata": {},
   "outputs": [
    {
     "data": {
      "text/plain": [
       "GridSearchCV(cv=5, estimator=RandomForestClassifier(random_state=88),\n",
       "             param_grid={'class_weight': ['balanced', 'balanced_subsample'],\n",
       "                         'criterion': ('gini', 'entropy'),\n",
       "                         'max_features': ['auto', 'sqrt', 'log2'],\n",
       "                         'min_samples_leaf': [1, 2, 5],\n",
       "                         'min_samples_split': [2, 5, 10],\n",
       "                         'oob_score': [True, False]})"
      ]
     },
     "execution_count": 17,
     "metadata": {},
     "output_type": "execute_result"
    }
   ],
   "source": [
    "parameters = {'criterion':('gini','entropy'), \n",
    "              'min_samples_split':[2,5,10],\n",
    "              'min_samples_leaf':[1,2,5],\n",
    "              'max_features':[\"auto\", \"sqrt\", \"log2\"],\n",
    "              'oob_score':[True,False],\n",
    "              'class_weight':[\"balanced\",\"balanced_subsample\"]}\n",
    "\n",
    "estimator = RandomForestClassifier(100,random_state = 88)\n",
    "clf_rf = GridSearchCV(estimator, parameters,cv = 5)\n",
    "clf_rf.fit(X_res,y_res)"
   ]
  },
  {
   "cell_type": "code",
   "execution_count": 24,
   "metadata": {},
   "outputs": [],
   "source": [
    "clf_bestrf = clf_rf.best_estimator_"
   ]
  },
  {
   "cell_type": "code",
   "execution_count": 26,
   "metadata": {},
   "outputs": [],
   "source": [
    "predict=clf_bestrf.predict(X_test.iloc[:,:-1])\n",
    "predict=pd.DataFrame(predict)\n",
    "predict.columns=[\"label\"]\n",
    "predict.to_csv('predict.csv',index=True,index_label=\"id\")"
   ]
  }
 ],
 "metadata": {
  "kernelspec": {
   "display_name": "Python 3",
   "language": "python",
   "name": "python3"
  },
  "language_info": {
   "codemirror_mode": {
    "name": "ipython",
    "version": 3
   },
   "file_extension": ".py",
   "mimetype": "text/x-python",
   "name": "python",
   "nbconvert_exporter": "python",
   "pygments_lexer": "ipython3",
   "version": "3.8.3"
  }
 },
 "nbformat": 4,
 "nbformat_minor": 5
}
